{
 "cells": [
  {
   "cell_type": "code",
   "execution_count": 11,
   "id": "fed123c3",
   "metadata": {},
   "outputs": [
    {
     "name": "stdout",
     "output_type": "stream",
     "text": [
      "a\n",
      "Dat\n",
      "a Science\n",
      "e\n",
      "Data Scienc\n",
      "Data Science\n",
      "ecneicS ataD\n"
     ]
    }
   ],
   "source": [
    "a = 'Data Science'\n",
    "\n",
    "#Manipulando indexação String\n",
    "\n",
    "print (a[3]) #exibe o correspondente\n",
    "print (a[:3]) #exibe todos do 0 ao \n",
    "print(a[3:]) #exibe todos do 3 ao fim da string\n",
    "print(a[-1:]) #Exibe a ultima letra\n",
    "print(a[:-1]) #exibe tudo exceto a ultima letra\n",
    "print(a[:]) #exibe toda strig\n",
    "print(a[::-1]) #escreve ao contrário"
   ]
  },
  {
   "cell_type": "code",
   "execution_count": 16,
   "id": "2984c50e",
   "metadata": {},
   "outputs": [
    {
     "name": "stdout",
     "output_type": "stream",
     "text": [
      "Data ScienceData Science exige estudo!\n"
     ]
    }
   ],
   "source": [
    "a = 'Data Science'\n",
    "a = a + ' exige estudo!'\n",
    "\n",
    "print(a)"
   ]
  },
  {
   "cell_type": "code",
   "execution_count": 25,
   "id": "47c741ff",
   "metadata": {},
   "outputs": [
    {
     "name": "stdout",
     "output_type": "stream",
     "text": [
      "5\n",
      "TODOS OS DIAS QUANDO ACORDO, NÃO TENHO MAIS O TEMPO QUE PASSOU.\n",
      "['todos', 'os', 'dias', 'quando', 'acordo,', 'não', 'tenho', 'mais', 'o', 'tempo', 'que', 'passou.']\n",
      "Todos os dias quando acordo, não tenho mais o tempo que passou.\n",
      "False\n",
      "True\n",
      "False\n"
     ]
    }
   ],
   "source": [
    "#funções das strings objeto.(tab)\n",
    "\n",
    "a = 'todos os dias quando acordo, não tenho mais o tempo que passou.'\n",
    "\n",
    "print(a.count('a'))\n",
    "print(a.upper())\n",
    "print(a.split(' ')) #divide a string no caracter indicado\n",
    "print(a.capitalize()) #primeira letra maiuscula \n",
    "print(a.isalnum()) #é um numero?\n",
    "print(a.islower()) #é minusculo?\n",
    "print(a.isspace()) #é so espaços?"
   ]
  },
  {
   "cell_type": "code",
   "execution_count": 219,
   "id": "ac56a0e0",
   "metadata": {},
   "outputs": [
    {
     "name": "stdout",
     "output_type": "stream",
     "text": [
      "['Jose', 'Pereira', 25, 'Parquelandia', 'Fortaleza']\n",
      "['Jose', 'Pereira', 25, 'Presidente Kenedy', 'Fortaleza']\n",
      "['Jose', 'Pereira', 25, 'Presidente Kenedy']\n",
      "['Jose', 'Pereira', 25, 'Presidente Kenedy', 'Preto']\n"
     ]
    }
   ],
   "source": [
    "# listas \n",
    "\n",
    "lista = ['Jose','Pereira',25,'Parquelandia', 'Fortaleza' ]\n",
    "\n",
    "print(lista)\n",
    "\n",
    "lista[3] = \"Presidente Kenedy\" #Atualiza lista\n",
    "print(lista)\n",
    "\n",
    "del lista[4] #deleta indice\n",
    "print(lista)\n",
    "\n",
    "lista.append('Preto') #adiciona indice\n",
    "print(lista)"
   ]
  },
  {
   "cell_type": "code",
   "execution_count": 231,
   "id": "a4554b19",
   "metadata": {},
   "outputs": [
    {
     "name": "stdout",
     "output_type": "stream",
     "text": [
      "[[11, 21, 31, 41, 15], [14, 24, 34, 44, 54], [13, 23, 33, 43, 53], [12, 22, 32, 42, 52]]\n",
      "ID\n",
      "Idade\n",
      "Altura\n",
      "Peso\n"
     ]
    },
    {
     "data": {
      "text/plain": [
       "[['ID', 21, 31, 41, 15],\n",
       " ['Idade', 24, 34, 44, 54],\n",
       " ['Altura', 23, 33, 43, 53],\n",
       " ['Peso', 22, 32, 42, 52]]"
      ]
     },
     "metadata": {},
     "output_type": "display_data"
    },
    {
     "name": "stdout",
     "output_type": "stream",
     "text": [
      "essa é a lista [['ID', 21, 31, 41, 15], ['Idade', 24, 34, 44, 54], ['Altura', 23, 33, 43, 53], ['Peso', 22, 32, 42, 52]]\n"
     ]
    },
    {
     "data": {
      "text/plain": [
       "2"
      ]
     },
     "execution_count": 231,
     "metadata": {},
     "output_type": "execute_result"
    }
   ],
   "source": [
    "#Matrizes X Lista de Lista\n",
    "#lista = [1,2,3,4,5,]\n",
    "\n",
    "lista = [[11, 21, 31, 41, 15], [14, 24, 34, 44, 54], [13, 23, 33, 43, 53], [12, 22, 32, 42, 52]]\n",
    "print(lista)\n",
    "for i in range(4):\n",
    "    Tipo = ['ID','Idade','Altura','Peso','Numero'] #categorias\n",
    "    lista[0+i][0] = Tipo[i] #localização das alterações\n",
    "    print(lista[0+i][0]) #exibe a lista\n",
    "   # lista.index('ID')\n",
    "    \n",
    "display(lista)\n",
    "print('essa é a lista',lista)\n",
    "\n",
    "lista[1].index(34) #idica a posição do elemento\n"
   ]
  },
  {
   "cell_type": "code",
   "execution_count": 61,
   "id": "c8fa10c1",
   "metadata": {},
   "outputs": [
    {
     "data": {
      "text/plain": [
       "[10]"
      ]
     },
     "execution_count": 61,
     "metadata": {},
     "output_type": "execute_result"
    }
   ],
   "source": [
    "#usando funções da lista\n",
    "\n",
    "a = [] #lista vazia\n",
    "\n",
    "a.append(10)\n",
    "\n",
    "a"
   ]
  },
  {
   "cell_type": "code",
   "execution_count": 106,
   "id": "daecc724",
   "metadata": {},
   "outputs": [
    {
     "name": "stdout",
     "output_type": "stream",
     "text": [
      "Destinos:  ['SALVADOR', 'BAHIA', 'PIAUI', 'PRENAMBUCO']\n",
      "Novos Horizontes ['FORTALEZA', 'BELEM', 'SERGIPE', 'RIO GRANDE DO NORTE']\n",
      "Atualizada: ['SALVADOR', 'BAHIA', 'PIAUI', 'PRENAMBUCO', 'FORTALEZA', 'BELEM', 'SERGIPE', 'RIO GRANDE DO NORTE']\n",
      "Nova Atualização ['SALVADOR', 'PIAUI', 'BH', 'PRENAMBUCO', 'FORTALEZA', 'BELEM', 'SERGIPE', 'RIO GRANDE DO NORTE']\n"
     ]
    },
    {
     "data": {
      "text/plain": [
       "['RIO GRANDE DO NORTE',\n",
       " 'SERGIPE',\n",
       " 'BELEM',\n",
       " 'FORTALEZA',\n",
       " 'PRENAMBUCO',\n",
       " 'BH',\n",
       " 'PIAUI',\n",
       " 'SALVADOR']"
      ]
     },
     "execution_count": 106,
     "metadata": {},
     "output_type": "execute_result"
    }
   ],
   "source": [
    "cidade = ['SALVADOR', 'BAHIA', 'PIAUI', 'PRENAMBUCO']\n",
    "novas = ['FORTALEZA', 'BELEM', 'SERGIPE', 'RIO GRANDE DO NORTE']\n",
    "\n",
    "print('Destinos: ',cidade)\n",
    "print('Novos Horizontes', novas)\n",
    "\n",
    "#ad = cidade.append(novas)\n",
    "cidade.extend(novas)\n",
    "print('Atualizada:',cidade)\n",
    "\n",
    "\n",
    "#indice\n",
    "\n",
    "cidade.index('SALVADOR')\n",
    "#cidade.index('BELO HORIZONTE')\n",
    "cidade.insert(3,'BH')\n",
    "cidade.remove('BAHIA')\n",
    "print('Nova Atualização',cidade)\n",
    "\n",
    "cidade.reverse()\n",
    "cidade\n"
   ]
  },
  {
   "cell_type": "code",
   "execution_count": 110,
   "id": "6240967f",
   "metadata": {},
   "outputs": [
    {
     "data": {
      "text/plain": [
       "['BELEM',\n",
       " 'BH',\n",
       " 'FORTALEZA',\n",
       " 'PIAUI',\n",
       " 'PRENAMBUCO',\n",
       " 'RIO GRANDE DO NORTE',\n",
       " 'SALVADOR',\n",
       " 'SERGIPE']"
      ]
     },
     "execution_count": 110,
     "metadata": {},
     "output_type": "execute_result"
    }
   ],
   "source": [
    "cidade.sort()\n",
    "cidade"
   ]
  },
  {
   "cell_type": "code",
   "execution_count": 117,
   "id": "f46a7bb9",
   "metadata": {},
   "outputs": [
    {
     "data": {
      "text/plain": [
       "{'Pedro': 9, 'Everton': 7, 'Gabriel': 10, 'Arrascaeta': 14, 'Bruno': 27}"
      ]
     },
     "execution_count": 117,
     "metadata": {},
     "output_type": "execute_result"
    }
   ],
   "source": [
    "#listas e Dicionários\n",
    "\n",
    "cadastro_lis = ['Pedro', 9, 'Everton', 7, 'Gabriel', 10, 'Arrascaeta', 14, 'Davi', 4]\n",
    "type(cadastro_lis)\n",
    "\n"
   ]
  },
  {
   "cell_type": "code",
   "execution_count": 118,
   "id": "037d2db9",
   "metadata": {},
   "outputs": [],
   "source": [
    "cad_bib = {'Pedro': 9, 'Everton': 7, 'Gabriel': 10, 'Arrascaeta': 14, 'Bruno': 27}"
   ]
  },
  {
   "cell_type": "code",
   "execution_count": 119,
   "id": "71f250f7",
   "metadata": {},
   "outputs": [
    {
     "data": {
      "text/plain": [
       "{'Pedro': 9, 'Everton': 7, 'Gabriel': 10, 'Arrascaeta': 14, 'Bruno': 27}"
      ]
     },
     "execution_count": 119,
     "metadata": {},
     "output_type": "execute_result"
    }
   ],
   "source": [
    "cad_bib\n"
   ]
  },
  {
   "cell_type": "code",
   "execution_count": 120,
   "id": "b121f270",
   "metadata": {},
   "outputs": [],
   "source": [
    "cad_bib['Thiago'] = 8"
   ]
  },
  {
   "cell_type": "code",
   "execution_count": 131,
   "id": "6ac63b78",
   "metadata": {},
   "outputs": [
    {
     "name": "stdout",
     "output_type": "stream",
     "text": [
      "{'Pedro': 9, 'Everton': 7, 'Gabriel': 10, 'Arrascaeta': 14, 'Bruno': 27, 'Thiago': 8}\n",
      "dict_values([9, 7, 10, 14, 27, 8])\n",
      "dict_keys(['Pedro', 'Everton', 'Gabriel', 'Arrascaeta', 'Bruno', 'Thiago'])\n",
      "dict_items([('Pedro', 9), ('Everton', 7), ('Gabriel', 10), ('Arrascaeta', 14), ('Bruno', 27), ('Thiago', 8)])\n"
     ]
    }
   ],
   "source": [
    "print(cad_bib)\n",
    "v = cad_bib.values() #exibibndo valores\n",
    "c = cad_bib.keys() #exibindo referencias\n",
    "z = cad_bib.items() #exibindo tudo\n",
    "print(v)\n",
    "print(c)\n",
    "print(z)"
   ]
  },
  {
   "cell_type": "code",
   "execution_count": null,
   "id": "86373f35",
   "metadata": {},
   "outputs": [],
   "source": []
  },
  {
   "cell_type": "code",
   "execution_count": 133,
   "id": "38d93620",
   "metadata": {},
   "outputs": [
    {
     "name": "stdout",
     "output_type": "stream",
     "text": [
      "{'Pulgar': 12, 'Varela': 6, 'Marinho': 17}\n"
     ]
    }
   ],
   "source": [
    "ref = {'Pulgar': 12, 'Varela': 6, 'Marinho': 17}\n",
    "print(ref)"
   ]
  },
  {
   "cell_type": "code",
   "execution_count": 134,
   "id": "279dfe16",
   "metadata": {},
   "outputs": [],
   "source": [
    "cad_bib.update(ref) #unindo biblioteca"
   ]
  },
  {
   "cell_type": "code",
   "execution_count": 137,
   "id": "9bf23edb",
   "metadata": {},
   "outputs": [
    {
     "data": {
      "text/plain": [
       "{'Pedro': 9,\n",
       " 'Everton': 7,\n",
       " 'Gabriel': 10,\n",
       " 'Arrascaeta': 14,\n",
       " 'Bruno': 27,\n",
       " 'Thiago': 8,\n",
       " 'Pulgar': 12,\n",
       " 'Varela': 6,\n",
       " 'Marinho': 17}"
      ]
     },
     "metadata": {},
     "output_type": "display_data"
    }
   ],
   "source": [
    "display(cad_bib)"
   ]
  },
  {
   "cell_type": "code",
   "execution_count": 136,
   "id": "6575feaa",
   "metadata": {},
   "outputs": [
    {
     "data": {
      "text/plain": [
       "{'Pedro': 9,\n",
       " 'Everton': 7,\n",
       " 'Gabriel': 10,\n",
       " 'Arrascaeta': 14,\n",
       " 'Bruno': 27,\n",
       " 'Thiago': 8,\n",
       " 'Pulgar': 12,\n",
       " 'Varela': 6,\n",
       " 'Marinho': 17}"
      ]
     },
     "execution_count": 136,
     "metadata": {},
     "output_type": "execute_result"
    }
   ],
   "source": [
    "cad_bib"
   ]
  },
  {
   "cell_type": "code",
   "execution_count": 139,
   "id": "98243073",
   "metadata": {},
   "outputs": [],
   "source": [
    "dic1 = {}"
   ]
  },
  {
   "cell_type": "code",
   "execution_count": 141,
   "id": "b94efcf0",
   "metadata": {},
   "outputs": [
    {
     "data": {
      "text/plain": [
       "{}"
      ]
     },
     "execution_count": 141,
     "metadata": {},
     "output_type": "execute_result"
    }
   ],
   "source": [
    "dic1"
   ]
  },
  {
   "cell_type": "code",
   "execution_count": 1,
   "id": "a051b032",
   "metadata": {},
   "outputs": [
    {
     "ename": "NameError",
     "evalue": "name 'dic1' is not defined",
     "output_type": "error",
     "traceback": [
      "\u001b[1;31m---------------------------------------------------------------------------\u001b[0m",
      "\u001b[1;31mNameError\u001b[0m                                 Traceback (most recent call last)",
      "\u001b[1;32m~\\AppData\\Local\\Temp\\ipykernel_12180\\162119637.py\u001b[0m in \u001b[0;36m<module>\u001b[1;34m\u001b[0m\n\u001b[1;32m----> 1\u001b[1;33m \u001b[0mdic1\u001b[0m\u001b[1;33m[\u001b[0m\u001b[1;34m'Chave'\u001b[0m\u001b[1;33m]\u001b[0m \u001b[1;33m=\u001b[0m \u001b[1;36m2\u001b[0m\u001b[1;33m\u001b[0m\u001b[1;33m\u001b[0m\u001b[0m\n\u001b[0m\u001b[0;32m      2\u001b[0m \u001b[0mdic1\u001b[0m\u001b[1;33m[\u001b[0m\u001b[1;36m10\u001b[0m\u001b[1;33m]\u001b[0m \u001b[1;33m=\u001b[0m \u001b[1;36m5\u001b[0m\u001b[1;33m\u001b[0m\u001b[1;33m\u001b[0m\u001b[0m\n\u001b[0;32m      3\u001b[0m \u001b[0mdic1\u001b[0m\u001b[1;33m[\u001b[0m\u001b[1;36m9.13\u001b[0m\u001b[1;33m]\u001b[0m \u001b[1;33m=\u001b[0m \u001b[1;34m'Python'\u001b[0m\u001b[1;33m\u001b[0m\u001b[1;33m\u001b[0m\u001b[0m\n\u001b[0;32m      4\u001b[0m \u001b[0mdic1\u001b[0m\u001b[1;33m[\u001b[0m\u001b[1;34m'teste'\u001b[0m\u001b[1;33m]\u001b[0m \u001b[1;33m=\u001b[0m \u001b[1;36m6\u001b[0m\u001b[1;33m\u001b[0m\u001b[1;33m\u001b[0m\u001b[0m\n\u001b[0;32m      5\u001b[0m \u001b[0mdic1\u001b[0m\u001b[1;33m[\u001b[0m\u001b[1;36m6\u001b[0m\u001b[1;33m]\u001b[0m\u001b[1;33m=\u001b[0m\u001b[1;34m'teste'\u001b[0m\u001b[1;33m\u001b[0m\u001b[1;33m\u001b[0m\u001b[0m\n",
      "\u001b[1;31mNameError\u001b[0m: name 'dic1' is not defined"
     ]
    }
   ],
   "source": [
    "dic1['Chave'] = 2\n",
    "dic1[10] = 5\n",
    "dic1[9.13] = 'Python'\n",
    "dic1['teste'] = 6\n",
    "dic1[6]='teste'\n",
    "\n",
    "display(dic1)\n",
    "\n"
   ]
  },
  {
   "cell_type": "code",
   "execution_count": null,
   "id": "3504f9a3",
   "metadata": {},
   "outputs": [],
   "source": [
    "dictx = {}\n",
    "\n",
    "dictx['teste'] = 10\n",
    "dictx['key'] = 'teste'\n",
    "\n",
    "dictx\n"
   ]
  },
  {
   "cell_type": "code",
   "execution_count": 156,
   "id": "aa4d1d7b",
   "metadata": {},
   "outputs": [
    {
     "data": {
      "text/plain": [
       "{'key1': 10, 'key2': 22, 'key3': 14}"
      ]
     },
     "execution_count": 156,
     "metadata": {},
     "output_type": "execute_result"
    }
   ],
   "source": [
    "#populando biblioteca \n",
    "\n",
    "dis = {}\n",
    "dis[\"key1\"] = 10\n",
    "dis[\"key2\"] = 22\n",
    "dis[\"key3\"] = 14\n",
    "\n",
    "dis"
   ]
  },
  {
   "cell_type": "code",
   "execution_count": 158,
   "id": "c0429c53",
   "metadata": {},
   "outputs": [],
   "source": [
    "#isolando valores da biblioteca\n",
    "\n",
    "a = dis['key1']\n",
    "b = dis['key2']\n",
    "c = dis[\"key3\"]"
   ]
  },
  {
   "cell_type": "code",
   "execution_count": 159,
   "id": "d4f4c876",
   "metadata": {},
   "outputs": [
    {
     "data": {
      "text/plain": [
       "(10, 22, 14)"
      ]
     },
     "execution_count": 159,
     "metadata": {},
     "output_type": "execute_result"
    }
   ],
   "source": [
    "a, b, c"
   ]
  },
  {
   "cell_type": "code",
   "execution_count": 161,
   "id": "df0cf7bf",
   "metadata": {},
   "outputs": [
    {
     "data": {
      "text/plain": [
       "str"
      ]
     },
     "execution_count": 161,
     "metadata": {},
     "output_type": "execute_result"
    }
   ],
   "source": [
    "tipos = ['1','2','3','4','5']\n",
    "type(tipos[0])\n"
   ]
  },
  {
   "cell_type": "code",
   "execution_count": 171,
   "id": "bc9a8cc3",
   "metadata": {},
   "outputs": [
    {
     "data": {
      "text/plain": [
       "int"
      ]
     },
     "execution_count": 171,
     "metadata": {},
     "output_type": "execute_result"
    }
   ],
   "source": [
    "a = type(int(tipos[0]))\n"
   ]
  },
  {
   "cell_type": "code",
   "execution_count": 165,
   "id": "83d9afc6",
   "metadata": {},
   "outputs": [
    {
     "data": {
      "text/plain": [
       "str"
      ]
     },
     "execution_count": 165,
     "metadata": {},
     "output_type": "execute_result"
    }
   ],
   "source": [
    "type(tipos[0])"
   ]
  },
  {
   "cell_type": "code",
   "execution_count": 172,
   "id": "d2feb33c",
   "metadata": {},
   "outputs": [
    {
     "data": {
      "text/plain": [
       "{'key1': 120,\n",
       " 'key2': [1, 2, 3, 4, 5],\n",
       " 'key3': ['picanha', 'salame', 'fraldinha', 'agua', 'frango']}"
      ]
     },
     "execution_count": 172,
     "metadata": {},
     "output_type": "execute_result"
    }
   ],
   "source": [
    "dict3 = {'key1':120, 'key2':[1,2,3,4,5], 'key3':['picanha','salame','fraldinha','agua','frango']}\n",
    "dict3"
   ]
  },
  {
   "cell_type": "code",
   "execution_count": 178,
   "id": "bc6c9a79",
   "metadata": {},
   "outputs": [
    {
     "data": {
      "text/plain": [
       "120"
      ]
     },
     "execution_count": 178,
     "metadata": {},
     "output_type": "execute_result"
    }
   ],
   "source": [
    "dict3['key1']"
   ]
  },
  {
   "cell_type": "code",
   "execution_count": 179,
   "id": "eb789ddc",
   "metadata": {},
   "outputs": [
    {
     "data": {
      "text/plain": [
       "[1, 2, 3, 4, 5]"
      ]
     },
     "execution_count": 179,
     "metadata": {},
     "output_type": "execute_result"
    }
   ],
   "source": [
    "dict3['key2']"
   ]
  },
  {
   "cell_type": "code",
   "execution_count": 184,
   "id": "f4bb8792",
   "metadata": {},
   "outputs": [
    {
     "data": {
      "text/plain": [
       "'PICANHA'"
      ]
     },
     "execution_count": 184,
     "metadata": {},
     "output_type": "execute_result"
    }
   ],
   "source": [
    "dict3['key3'][0].upper()\n",
    "#display(dict3['key3'])"
   ]
  },
  {
   "cell_type": "code",
   "execution_count": 193,
   "id": "89a55e39",
   "metadata": {},
   "outputs": [],
   "source": [
    "dict3['key2'][0] -=2 #faz a operação e adiciona a atualização da lista"
   ]
  },
  {
   "cell_type": "code",
   "execution_count": 194,
   "id": "43376aff",
   "metadata": {},
   "outputs": [
    {
     "data": {
      "text/plain": [
       "3"
      ]
     },
     "execution_count": 194,
     "metadata": {},
     "output_type": "execute_result"
    }
   ],
   "source": [
    "var "
   ]
  },
  {
   "cell_type": "code",
   "execution_count": 195,
   "id": "28fdd730",
   "metadata": {},
   "outputs": [
    {
     "data": {
      "text/plain": [
       "[1, 2, 3, 4, 5]"
      ]
     },
     "execution_count": 195,
     "metadata": {},
     "output_type": "execute_result"
    }
   ],
   "source": [
    "dict3['key2'] #listar dicionário"
   ]
  },
  {
   "cell_type": "code",
   "execution_count": 210,
   "id": "ab3671b0",
   "metadata": {},
   "outputs": [],
   "source": [
    "#CRIANDO DISCIONÁRIO ANINHADO\n",
    "\n",
    "dict_aninhado = {'key1':{'key2_aninhada':{'key3_aninhada':['Dict Aninhado em Python','indice 1','Indice 2']}}}\n"
   ]
  },
  {
   "cell_type": "code",
   "execution_count": 232,
   "id": "2e974815",
   "metadata": {},
   "outputs": [
    {
     "data": {
      "text/plain": [
       "{'key1': {'key2_aninhada': {'key3_aninhada': ['Dict Aninhado em Python',\n",
       "    'indice 1',\n",
       "    'Indice 2']}}}"
      ]
     },
     "metadata": {},
     "output_type": "display_data"
    }
   ],
   "source": [
    "display(dict_aninhado)"
   ]
  },
  {
   "cell_type": "code",
   "execution_count": 212,
   "id": "9aa9baf6",
   "metadata": {},
   "outputs": [
    {
     "data": {
      "text/plain": [
       "['Dict Aninhado em Python', 'indice 1', 'Indice 2']"
      ]
     },
     "execution_count": 212,
     "metadata": {},
     "output_type": "execute_result"
    }
   ],
   "source": [
    "dict_aninhado['key1']['key2_aninhada']['key3_aninhada']"
   ]
  },
  {
   "cell_type": "code",
   "execution_count": 235,
   "id": "26235f89",
   "metadata": {},
   "outputs": [
    {
     "data": {
      "text/plain": [
       "{'key3_aninhada': ['Dict Aninhado em Python', 'indice 1', 'Indice 2']}"
      ]
     },
     "execution_count": 235,
     "metadata": {},
     "output_type": "execute_result"
    }
   ],
   "source": [
    "dict_aninhado['key1']['key2_aninhada']['key3_aninhada'][2] #consulta aninhada"
   ]
  },
  {
   "cell_type": "code",
   "execution_count": null,
   "id": "adc533ec",
   "metadata": {},
   "outputs": [],
   "source": []
  },
  {
   "cell_type": "code",
   "execution_count": null,
   "id": "10bcbd3f",
   "metadata": {},
   "outputs": [],
   "source": []
  }
 ],
 "metadata": {
  "kernelspec": {
   "display_name": "Python 3 (ipykernel)",
   "language": "python",
   "name": "python3"
  },
  "language_info": {
   "codemirror_mode": {
    "name": "ipython",
    "version": 3
   },
   "file_extension": ".py",
   "mimetype": "text/x-python",
   "name": "python",
   "nbconvert_exporter": "python",
   "pygments_lexer": "ipython3",
   "version": "3.9.13"
  }
 },
 "nbformat": 4,
 "nbformat_minor": 5
}
