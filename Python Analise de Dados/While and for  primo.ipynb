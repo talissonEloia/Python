{
 "cells": [
  {
   "cell_type": "code",
   "execution_count": 2,
   "id": "16a07adf",
   "metadata": {},
   "outputs": [
    {
     "name": "stdout",
     "output_type": "stream",
     "text": [
      "[2, 3, 5, 7, 11, 13, 17, 19, 23, 29]\n",
      "Wall time: 1 ms\n"
     ]
    }
   ],
   "source": [
    "%%time #exibe o tempo de execução\n",
    "\n",
    "#percorre os numeros de 2 a 30\n",
    "primos = []\n",
    "for num in range(2,30):      # range(inicio,fim,intervalo)\n",
    "    \n",
    "    eh_primo = True\n",
    "    \n",
    "    #verificar se um número é primo\n",
    "    i = 2\n",
    "    while i <= num // 2:\n",
    "        if num % i ==0:\n",
    "            eh_primo = False\n",
    "            break\n",
    "        i += 1\n",
    "\n",
    "#Adicionar numero na lista\n",
    "    if eh_primo:\n",
    "        primos.append(num)\n",
    "\n",
    "#Imprimindo Lista de números primos\n",
    "print(primos)\n",
    "\n"
   ]
  },
  {
   "cell_type": "code",
   "execution_count": 4,
   "id": "20e32608",
   "metadata": {
    "scrolled": true
   },
   "outputs": [
    {
     "name": "stdout",
     "output_type": "stream",
     "text": [
      "2 é um número primo\n",
      "3 é um número primo\n",
      "5 é um número primo\n",
      "7 é um número primo\n",
      "11 é um número primo\n",
      "13 é um número primo\n",
      "17 é um número primo\n",
      "19 é um número primo\n",
      "23 é um número primo\n",
      "29 é um número primo\n",
      "Wall time: 1 ms\n"
     ]
    }
   ],
   "source": [
    "%%time #exibe o tempo de execução\n",
    "\n",
    "for i in range(2,31):\n",
    "    j = 2 #variavel de controle\n",
    "    cont = 0 #contador\n",
    "    \n",
    "    while j < i:\n",
    "        if i % j == 0:\n",
    "            cont = 1\n",
    "            j = j + 1\n",
    "        else:\n",
    "            j = j + 1\n",
    "    if cont == 0:\n",
    "        print(str(i) + ' é um número primo')\n",
    "        cont = 0\n",
    "    else:\n",
    "        cont = 0\n",
    "        \n",
    "        \n",
    "\n"
   ]
  },
  {
   "cell_type": "code",
   "execution_count": null,
   "id": "2dfa62d0",
   "metadata": {},
   "outputs": [],
   "source": []
  },
  {
   "cell_type": "code",
   "execution_count": null,
   "id": "1da47807",
   "metadata": {},
   "outputs": [],
   "source": []
  }
 ],
 "metadata": {
  "kernelspec": {
   "display_name": "Python 3 (ipykernel)",
   "language": "python",
   "name": "python3"
  },
  "language_info": {
   "codemirror_mode": {
    "name": "ipython",
    "version": 3
   },
   "file_extension": ".py",
   "mimetype": "text/x-python",
   "name": "python",
   "nbconvert_exporter": "python",
   "pygments_lexer": "ipython3",
   "version": "3.9.13"
  }
 },
 "nbformat": 4,
 "nbformat_minor": 5
}
