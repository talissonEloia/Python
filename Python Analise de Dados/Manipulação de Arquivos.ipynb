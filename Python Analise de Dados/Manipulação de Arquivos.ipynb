{
 "cells": [
  {
   "cell_type": "code",
   "execution_count": 1,
   "id": "1fa95b79",
   "metadata": {},
   "outputs": [],
   "source": [
    "##Manipulação de Arquivos"
   ]
  },
  {
   "cell_type": "code",
   "execution_count": 16,
   "id": "af4c4910",
   "metadata": {},
   "outputs": [],
   "source": [
    "#\n",
    "#Abrindo arquivos para leitura 'r'\n",
    "#\n",
    "arq1 = open(\"cap6/Arquivos/arquivo1.txt\",\"r\") # r = read\n",
    "\n",
    "#\n",
    "#se não especificar o segundo parametro, a forma padrão de leitura 'r' será ultilizada\n",
    "#\n",
    "\n",
    "arq1 = open(\"cap6/Arquivos/arquivo1.txt\") \n"
   ]
  },
  {
   "cell_type": "code",
   "execution_count": 17,
   "id": "7f850467",
   "metadata": {},
   "outputs": [
    {
     "data": {
      "text/plain": [
       "_io.TextIOWrapper"
      ]
     },
     "execution_count": 17,
     "metadata": {},
     "output_type": "execute_result"
    }
   ],
   "source": [
    "type(arq1)"
   ]
  },
  {
   "cell_type": "code",
   "execution_count": 43,
   "id": "c91a3bec",
   "metadata": {},
   "outputs": [
    {
     "name": "stdout",
     "output_type": "stream",
     "text": [
      "Dado, Dado, Dado, o que fizeram com voce?\n"
     ]
    }
   ],
   "source": [
    "#\n",
    "#lendo arquivo\n",
    "#\n",
    "print(arq1.read()) #Ao ler arquivo o cursos fica no final do arquivo... é preciso voltar ao nício"
   ]
  },
  {
   "cell_type": "code",
   "execution_count": 44,
   "id": "6e9ffcd0",
   "metadata": {},
   "outputs": [
    {
     "name": "stdout",
     "output_type": "stream",
     "text": [
      "41\n"
     ]
    }
   ],
   "source": [
    "##conta caracteres atrás do curso\n",
    "\n",
    "print(arq1.tell()) \n",
    "#"
   ]
  },
  {
   "cell_type": "code",
   "execution_count": 45,
   "id": "08bc52a2",
   "metadata": {},
   "outputs": [
    {
     "data": {
      "text/plain": [
       "0"
      ]
     },
     "execution_count": 45,
     "metadata": {},
     "output_type": "execute_result"
    }
   ],
   "source": [
    "#retorna ao inicio do arquivo\n",
    "arq1.seek(0,0) "
   ]
  },
  {
   "cell_type": "code",
   "execution_count": 46,
   "id": "f623d932",
   "metadata": {},
   "outputs": [
    {
     "name": "stdout",
     "output_type": "stream",
     "text": [
      "Dado, Dado, Dado, o que\n"
     ]
    }
   ],
   "source": [
    "#\n",
    "#indica a quantidade de caracteres a serem lidos\n",
    "#\n",
    "print(arq1.read(23)) "
   ]
  },
  {
   "cell_type": "code",
   "execution_count": 147,
   "id": "bc9ce30a",
   "metadata": {},
   "outputs": [],
   "source": [
    "#\n",
    "#Abrindo arquivo para edição 'w'\n",
    "#\n",
    "arq2 = open('cap6/Arquivos/arquivo2.txt','w') #w = write"
   ]
  },
  {
   "cell_type": "code",
   "execution_count": 148,
   "id": "d74c4a8b",
   "metadata": {},
   "outputs": [
    {
     "data": {
      "text/plain": [
       "95"
      ]
     },
     "execution_count": 148,
     "metadata": {},
     "output_type": "execute_result"
    }
   ],
   "source": [
    "#\n",
    "#escrevendo no arquivo\n",
    "#\n",
    "arq2.write(\"A onde está voce? Me telefona. \\nMe chama, me chama, chama \\nNem sempre se ve \\nLagrimas no escuro\") "
   ]
  },
  {
   "cell_type": "code",
   "execution_count": 149,
   "id": "021a030c",
   "metadata": {},
   "outputs": [],
   "source": [
    "arq2.close()"
   ]
  },
  {
   "cell_type": "code",
   "execution_count": 93,
   "id": "18b53dba",
   "metadata": {},
   "outputs": [],
   "source": [
    "#\n",
    "#ler arquivo\n",
    "#\n",
    "arq2 = open(\"cap6/Arquivos/arquivo2.txt\",\"r\")"
   ]
  },
  {
   "cell_type": "code",
   "execution_count": 123,
   "id": "d61d0387",
   "metadata": {},
   "outputs": [
    {
     "ename": "UnsupportedOperation",
     "evalue": "not readable",
     "output_type": "error",
     "traceback": [
      "\u001b[1;31m---------------------------------------------------------------------------\u001b[0m",
      "\u001b[1;31mUnsupportedOperation\u001b[0m                      Traceback (most recent call last)",
      "\u001b[1;32m~\\AppData\\Local\\Temp\\ipykernel_10804\\3190739687.py\u001b[0m in \u001b[0;36m<module>\u001b[1;34m\u001b[0m\n\u001b[0;32m      2\u001b[0m \u001b[1;31m#printar leitura do arquivo\u001b[0m\u001b[1;33m\u001b[0m\u001b[1;33m\u001b[0m\u001b[0m\n\u001b[0;32m      3\u001b[0m \u001b[1;31m#\u001b[0m\u001b[1;33m\u001b[0m\u001b[1;33m\u001b[0m\u001b[0m\n\u001b[1;32m----> 4\u001b[1;33m \u001b[0mprint\u001b[0m\u001b[1;33m(\u001b[0m\u001b[0marq2\u001b[0m\u001b[1;33m.\u001b[0m\u001b[0mread\u001b[0m\u001b[1;33m(\u001b[0m\u001b[1;33m)\u001b[0m\u001b[1;33m)\u001b[0m\u001b[1;33m\u001b[0m\u001b[1;33m\u001b[0m\u001b[0m\n\u001b[0m",
      "\u001b[1;31mUnsupportedOperation\u001b[0m: not readable"
     ]
    }
   ],
   "source": [
    "#\n",
    "#printar leitura do arquivo\n",
    "#    \n",
    "print(arq2.read())"
   ]
  },
  {
   "cell_type": "code",
   "execution_count": 65,
   "id": "8fd948b2",
   "metadata": {},
   "outputs": [
    {
     "data": {
      "text/plain": [
       "0"
      ]
     },
     "execution_count": 65,
     "metadata": {},
     "output_type": "execute_result"
    }
   ],
   "source": [
    "#\n",
    "#retorna para o inicio do arquivo\n",
    "#\n",
    "arq2.seek(0,0) "
   ]
  },
  {
   "cell_type": "code",
   "execution_count": 124,
   "id": "09a9cb6e",
   "metadata": {},
   "outputs": [],
   "source": [
    "#\n",
    "#fechar o arquivo \n",
    "#\n",
    "arq2.close() "
   ]
  },
  {
   "cell_type": "code",
   "execution_count": 130,
   "id": "0069aea7",
   "metadata": {},
   "outputs": [
    {
     "name": "stdout",
     "output_type": "stream",
     "text": [
      "1-A onde está voce? Me telefona. \n",
      "\n",
      "2-Me chama, me chama, chama \n",
      "\n",
      "3-Nem sempre se ve \n",
      "\n",
      "4-Lagrimas no escuro\n"
     ]
    }
   ],
   "source": [
    "arq2 = open('cap6/Arquivos/arquivo2.txt','r')\n",
    "i = 1\n",
    "for line in arq2:\n",
    "    print('%d-'%i + line)\n",
    "    i+=1"
   ]
  },
  {
   "cell_type": "code",
   "execution_count": 94,
   "id": "f105402f",
   "metadata": {},
   "outputs": [
    {
     "name": "stdout",
     "output_type": "stream",
     "text": [
      "A onde está voce? Me telefona. \n",
      "Me chama, me chama, chama \n",
      "Nem sempre se ve \n",
      "Lagrimas no escuro\n"
     ]
    }
   ],
   "source": [
    "print(arq2.read())"
   ]
  },
  {
   "cell_type": "code",
   "execution_count": 117,
   "id": "191b4c8c",
   "metadata": {},
   "outputs": [
    {
     "name": "stdout",
     "output_type": "stream",
     "text": [
      "A onde está voce? Me telefona. Me chama, me chama, chama...\n",
      "\n",
      "Nem sempre se ve \n",
      "\n",
      "Lagrimas no escuro\n"
     ]
    }
   ],
   "source": [
    "arq2.seek(0,0)\n",
    "for line in arq2:\n",
    "    print(line)\n"
   ]
  },
  {
   "cell_type": "code",
   "execution_count": 144,
   "id": "4481f57e",
   "metadata": {},
   "outputs": [
    {
     "ename": "UnsupportedOperation",
     "evalue": "not readable",
     "output_type": "error",
     "traceback": [
      "\u001b[1;31m---------------------------------------------------------------------------\u001b[0m",
      "\u001b[1;31mUnsupportedOperation\u001b[0m                      Traceback (most recent call last)",
      "\u001b[1;32m~\\AppData\\Local\\Temp\\ipykernel_10804\\3782180099.py\u001b[0m in \u001b[0;36m<module>\u001b[1;34m\u001b[0m\n\u001b[0;32m      1\u001b[0m \u001b[0marq2\u001b[0m\u001b[1;33m.\u001b[0m\u001b[0mseek\u001b[0m\u001b[1;33m(\u001b[0m\u001b[1;36m0\u001b[0m\u001b[1;33m,\u001b[0m\u001b[1;36m0\u001b[0m\u001b[1;33m)\u001b[0m\u001b[1;33m\u001b[0m\u001b[1;33m\u001b[0m\u001b[0m\n\u001b[0;32m      2\u001b[0m \u001b[1;33m\u001b[0m\u001b[0m\n\u001b[1;32m----> 3\u001b[1;33m \u001b[0mprint\u001b[0m\u001b[1;33m(\u001b[0m\u001b[0marq2\u001b[0m\u001b[1;33m.\u001b[0m\u001b[0mreadlines\u001b[0m\u001b[1;33m(\u001b[0m\u001b[1;33m)\u001b[0m\u001b[1;33m)\u001b[0m \u001b[1;31m#\u001b[0m\u001b[1;33m\u001b[0m\u001b[1;33m\u001b[0m\u001b[0m\n\u001b[0m",
      "\u001b[1;31mUnsupportedOperation\u001b[0m: not readable"
     ]
    }
   ],
   "source": [
    "arq2.seek(0,0)\n",
    "\n",
    "print(arq2.readlines()) #"
   ]
  },
  {
   "cell_type": "markdown",
   "id": "7556f4af",
   "metadata": {},
   "source": [
    "#### Para escrever em um arquivo sem apagar seu contéudo, ou seja, adicionando (incluído) novo conteúdo seguimos 3 passos:\n",
    "\n",
    "Ler todo o conteúdo do arquivo,\n",
    "efetuar a adição e\n",
    "escrever o novo conteúdo no arquivo."
   ]
  },
  {
   "cell_type": "code",
   "execution_count": 143,
   "id": "b6f94f04",
   "metadata": {},
   "outputs": [
    {
     "ename": "UnsupportedOperation",
     "evalue": "not readable",
     "output_type": "error",
     "traceback": [
      "\u001b[1;31m---------------------------------------------------------------------------\u001b[0m",
      "\u001b[1;31mUnsupportedOperation\u001b[0m                      Traceback (most recent call last)",
      "\u001b[1;32m~\\AppData\\Local\\Temp\\ipykernel_10804\\1482818857.py\u001b[0m in \u001b[0;36m<module>\u001b[1;34m\u001b[0m\n\u001b[1;32m----> 1\u001b[1;33m \u001b[0mprint\u001b[0m\u001b[1;33m(\u001b[0m\u001b[0marq2\u001b[0m\u001b[1;33m.\u001b[0m\u001b[0mreadlines\u001b[0m\u001b[1;33m(\u001b[0m\u001b[1;33m)\u001b[0m\u001b[1;33m)\u001b[0m \u001b[1;31m#\u001b[0m\u001b[1;33m\u001b[0m\u001b[1;33m\u001b[0m\u001b[0m\n\u001b[0m",
      "\u001b[1;31mUnsupportedOperation\u001b[0m: not readable"
     ]
    }
   ],
   "source": [
    "print(arq2.readlines()) #"
   ]
  },
  {
   "cell_type": "code",
   "execution_count": 175,
   "id": "54fab2f6",
   "metadata": {},
   "outputs": [
    {
     "name": "stdout",
     "output_type": "stream",
     "text": [
      "['A onde está voce? Me telefona. \\n', 'Me chama, me chama, chama \\n', 'Nem sempre se ve \\n', 'Lagrimas no escuro']\n"
     ]
    }
   ],
   "source": [
    "#abre o arquivo para leitura\n",
    "arq2 = open('cap6/Arquivos/arquivo2.txt','r')\n",
    "#a lista conteudo recebe a leitura da linhas\n",
    "conteudo = arq2.readlines()\n",
    "print(conteudo)\n",
    "\n",
    "#arq2.close()\n"
   ]
  },
  {
   "cell_type": "code",
   "execution_count": 176,
   "id": "0f97b6ce",
   "metadata": {},
   "outputs": [],
   "source": [
    "\n",
    "conteudo.append('\\nNova linha')\n"
   ]
  },
  {
   "cell_type": "code",
   "execution_count": 177,
   "id": "ce436b06",
   "metadata": {},
   "outputs": [],
   "source": [
    "\n",
    "arq2 = open('cap6/Arquivos/arquivo2.txt','w')\n",
    "arq2.writelines(conteudo)\n",
    "arq2.close()\n"
   ]
  },
  {
   "cell_type": "code",
   "execution_count": 173,
   "id": "af875037",
   "metadata": {},
   "outputs": [],
   "source": [
    "#Escrever no arquivo\n",
    "\n",
    "arq2 = open('cap6/Arquivos/arquivo2.txt','w')\n",
    "arq2.write(\"A onde está voce? Me telefona. \\nMe chama, me chama, chama \\nNem sempre se ve \\nLagrimas no escuro\")\n",
    "arq2.close()"
   ]
  },
  {
   "cell_type": "code",
   "execution_count": 174,
   "id": "90090a93",
   "metadata": {},
   "outputs": [
    {
     "name": "stdout",
     "output_type": "stream",
     "text": [
      "A onde está voce? Me telefona. \n",
      "Me chama, me chama, chama \n",
      "Nem sempre se ve \n",
      "Lagrimas no escuro\n"
     ]
    }
   ],
   "source": [
    "arq2.close()\n",
    "\n",
    "arq2 = open('cap6/Arquivos/arquivo2.txt','r')\n",
    "arq2.seek(0,0)\n",
    "print(arq2.read())"
   ]
  },
  {
   "cell_type": "markdown",
   "id": "ab5d4d75",
   "metadata": {},
   "source": [
    "Criando um arquivo do zero e escrevendo no mesmo\n"
   ]
  },
  {
   "cell_type": "code",
   "execution_count": 197,
   "id": "342104d0",
   "metadata": {},
   "outputs": [],
   "source": [
    "arquivo = open('cap6/Novo_arquivo.txt','r')\n",
    "#arquivo.write('Todos os dias quando acordo')"
   ]
  },
  {
   "cell_type": "code",
   "execution_count": 188,
   "id": "bc2c9a98",
   "metadata": {},
   "outputs": [],
   "source": [
    "arquivo = open('cap6/Novo_arquivo.txt','r')"
   ]
  },
  {
   "cell_type": "code",
   "execution_count": 193,
   "id": "e4261b02",
   "metadata": {},
   "outputs": [],
   "source": [
    "\n",
    "arquivo = open('cap6/Novo_arquivo.txt','w')\n"
   ]
  },
  {
   "cell_type": "code",
   "execution_count": 194,
   "id": "39e198b6",
   "metadata": {},
   "outputs": [
    {
     "data": {
      "text/plain": [
       "23"
      ]
     },
     "execution_count": 194,
     "metadata": {},
     "output_type": "execute_result"
    }
   ],
   "source": [
    "arquivo.write('Você é um amigo, amigo!')"
   ]
  },
  {
   "cell_type": "code",
   "execution_count": 199,
   "id": "366336c5",
   "metadata": {},
   "outputs": [
    {
     "name": "stdout",
     "output_type": "stream",
     "text": [
      "Você é um amigo, amigo!\n"
     ]
    }
   ],
   "source": [
    "print(arquivo.read())"
   ]
  },
  {
   "cell_type": "code",
   "execution_count": null,
   "id": "dbececbe",
   "metadata": {},
   "outputs": [],
   "source": []
  }
 ],
 "metadata": {
  "kernelspec": {
   "display_name": "Python 3 (ipykernel)",
   "language": "python",
   "name": "python3"
  },
  "language_info": {
   "codemirror_mode": {
    "name": "ipython",
    "version": 3
   },
   "file_extension": ".py",
   "mimetype": "text/x-python",
   "name": "python",
   "nbconvert_exporter": "python",
   "pygments_lexer": "ipython3",
   "version": "3.9.13"
  }
 },
 "nbformat": 4,
 "nbformat_minor": 5
}
