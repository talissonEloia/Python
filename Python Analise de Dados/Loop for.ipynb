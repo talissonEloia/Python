{
 "cells": [
  {
   "cell_type": "markdown",
   "id": "806921f8",
   "metadata": {},
   "source": [
    "# for\n"
   ]
  },
  {
   "cell_type": "code",
   "execution_count": 11,
   "id": "4340a6ea",
   "metadata": {},
   "outputs": [
    {
     "data": {
      "text/plain": [
       "(1, 2, 3, 4, 5, 6, 7, 8)"
      ]
     },
     "metadata": {},
     "output_type": "display_data"
    },
    {
     "name": "stdout",
     "output_type": "stream",
     "text": [
      "index 0 - 1\n",
      "index 1 - 2\n",
      "index 2 - 3\n",
      "index 3 - 4\n",
      "index 4 - 5\n",
      "index 5 - 6\n",
      "index 6 - 7\n",
      "index 7 - 8\n"
     ]
    }
   ],
   "source": [
    "tp = (1,2,3,4,5,6,7,8)\n",
    "display(tp)\n",
    "\n",
    "for i in range(len(tp)):\n",
    "    tpx = list(tp)\n",
    "    print('index',tpx.index(i+1),'-',tp[i])\n",
    "   "
   ]
  },
  {
   "cell_type": "code",
   "execution_count": 12,
   "id": "fa46d092",
   "metadata": {},
   "outputs": [
    {
     "name": "stdout",
     "output_type": "stream",
     "text": [
      "1\n",
      "2\n",
      "3\n",
      "4\n",
      "5\n",
      "6\n",
      "7\n",
      "8\n"
     ]
    }
   ],
   "source": [
    "for i  in tp: #para cada i ia tp\n",
    "    print(i) #escreva i"
   ]
  },
  {
   "cell_type": "code",
   "execution_count": 21,
   "id": "ac546a75",
   "metadata": {},
   "outputs": [
    {
     "name": "stdout",
     "output_type": "stream",
     "text": [
      "S\n",
      "c\n",
      "o\n",
      "r\n",
      "p\n",
      "i\n",
      "o\n",
      "n\n",
      "s\n"
     ]
    }
   ],
   "source": [
    "palavra = 'Scorpions'\n",
    "\n",
    "for i in range(len(palavra)):\n",
    "    print(palavra[i])"
   ]
  },
  {
   "cell_type": "code",
   "execution_count": 47,
   "id": "b1f40649",
   "metadata": {},
   "outputs": [
    {
     "data": {
      "text/plain": [
       "[1, 2, 3, 4, 5, 6, 7, 8, 9, 10]"
      ]
     },
     "metadata": {},
     "output_type": "display_data"
    },
    {
     "data": {
      "text/plain": [
       "[9, 8, 7, 6, 5, 4, 3, 2, 1, 0]"
      ]
     },
     "metadata": {},
     "output_type": "display_data"
    },
    {
     "name": "stdout",
     "output_type": "stream",
     "text": [
      "Taboada 1\n",
      "1 + 9 = 10\n",
      "1 + 8 = 9\n",
      "1 + 7 = 8\n",
      "1 + 6 = 7\n",
      "1 + 5 = 6\n",
      "1 + 4 = 5\n",
      "1 + 3 = 4\n",
      "1 + 2 = 3\n",
      "1 + 1 = 2\n",
      "1 + 0 = 1\n",
      "----------\n",
      "Taboada 2\n",
      "2 + 9 = 11\n",
      "2 + 8 = 10\n",
      "2 + 7 = 9\n",
      "2 + 6 = 8\n",
      "2 + 5 = 7\n",
      "2 + 4 = 6\n",
      "2 + 3 = 5\n",
      "2 + 2 = 4\n",
      "2 + 1 = 3\n",
      "2 + 0 = 2\n",
      "----------\n",
      "Taboada 3\n",
      "3 + 9 = 12\n",
      "3 + 8 = 11\n",
      "3 + 7 = 10\n",
      "3 + 6 = 9\n",
      "3 + 5 = 8\n",
      "3 + 4 = 7\n",
      "3 + 3 = 6\n",
      "3 + 2 = 5\n",
      "3 + 1 = 4\n",
      "3 + 0 = 3\n",
      "----------\n",
      "Taboada 4\n",
      "4 + 9 = 13\n",
      "4 + 8 = 12\n",
      "4 + 7 = 11\n",
      "4 + 6 = 10\n",
      "4 + 5 = 9\n",
      "4 + 4 = 8\n",
      "4 + 3 = 7\n",
      "4 + 2 = 6\n",
      "4 + 1 = 5\n",
      "4 + 0 = 4\n",
      "----------\n",
      "Taboada 5\n",
      "5 + 9 = 14\n",
      "5 + 8 = 13\n",
      "5 + 7 = 12\n",
      "5 + 6 = 11\n",
      "5 + 5 = 10\n",
      "5 + 4 = 9\n",
      "5 + 3 = 8\n",
      "5 + 2 = 7\n",
      "5 + 1 = 6\n",
      "5 + 0 = 5\n",
      "----------\n",
      "Taboada 6\n",
      "6 + 9 = 15\n",
      "6 + 8 = 14\n",
      "6 + 7 = 13\n",
      "6 + 6 = 12\n",
      "6 + 5 = 11\n",
      "6 + 4 = 10\n",
      "6 + 3 = 9\n",
      "6 + 2 = 8\n",
      "6 + 1 = 7\n",
      "6 + 0 = 6\n",
      "----------\n",
      "Taboada 7\n",
      "7 + 9 = 16\n",
      "7 + 8 = 15\n",
      "7 + 7 = 14\n",
      "7 + 6 = 13\n",
      "7 + 5 = 12\n",
      "7 + 4 = 11\n",
      "7 + 3 = 10\n",
      "7 + 2 = 9\n",
      "7 + 1 = 8\n",
      "7 + 0 = 7\n",
      "----------\n",
      "Taboada 8\n",
      "8 + 9 = 17\n",
      "8 + 8 = 16\n",
      "8 + 7 = 15\n",
      "8 + 6 = 14\n",
      "8 + 5 = 13\n",
      "8 + 4 = 12\n",
      "8 + 3 = 11\n",
      "8 + 2 = 10\n",
      "8 + 1 = 9\n",
      "8 + 0 = 8\n",
      "----------\n",
      "Taboada 9\n",
      "9 + 9 = 18\n",
      "9 + 8 = 17\n",
      "9 + 7 = 16\n",
      "9 + 6 = 15\n",
      "9 + 5 = 14\n",
      "9 + 4 = 13\n",
      "9 + 3 = 12\n",
      "9 + 2 = 11\n",
      "9 + 1 = 10\n",
      "9 + 0 = 9\n",
      "----------\n",
      "Taboada 10\n",
      "10 + 9 = 19\n",
      "10 + 8 = 18\n",
      "10 + 7 = 17\n",
      "10 + 6 = 16\n",
      "10 + 5 = 15\n",
      "10 + 4 = 14\n",
      "10 + 3 = 13\n",
      "10 + 2 = 12\n",
      "10 + 1 = 11\n",
      "10 + 0 = 10\n",
      "----------\n"
     ]
    }
   ],
   "source": [
    "lista1 = [1,2,3,4,5,6,7,8,9,10]\n",
    "lista2 = [9,8,7,6,5,4,3,2,1,0]\n",
    "display(lista1,lista2)\n",
    "for n_lista1 in lista1:\n",
    "    print('Taboada %d'%n_lista1)\n",
    "    for n_lista2 in lista2:\n",
    "        soma_lista = n_lista1 + n_lista2\n",
    "        print('%d + %d = %d'%(n_lista1,n_lista2,soma_lista))\n",
    "    print('-'*10)"
   ]
  },
  {
   "cell_type": "code",
   "execution_count": 54,
   "id": "b1ee4443",
   "metadata": {},
   "outputs": [
    {
     "name": "stdout",
     "output_type": "stream",
     "text": [
      "O numero 1 tem index [0] no cesto 1 e [0] no cesto 2\n",
      "O numero 3 tem index [2] no cesto 1 e [1] no cesto 2\n",
      "O numero 7 tem index [4] no cesto 1 e [3] no cesto 2\n"
     ]
    }
   ],
   "source": [
    "cesto1 = [1,2,3,6,7,8,0]\n",
    "cesto2 = [1,3,5,7,9]\n",
    "\n",
    "for sort1 in cesto1:\n",
    "    for sort2 in cesto2:\n",
    "        if sort1 == sort2:\n",
    "            print(\"O numero %d tem index [%d] no cesto 1 e [%d] no cesto 2\"#quebra de linha para identação\n",
    "                  %(sort2,cesto1.index(sort1),cesto2.index(sort2)))"
   ]
  },
  {
   "cell_type": "code",
   "execution_count": 58,
   "id": "26a99c8f",
   "metadata": {},
   "outputs": [
    {
     "name": "stdout",
     "output_type": "stream",
     "text": [
      "22\n"
     ]
    }
   ],
   "source": [
    "matriz = [[1,22,3],[9,9,8],[12,6,7]]\n",
    "maior = 0\n",
    "\n",
    "for linha in matriz:\n",
    "    for num in linha:\n",
    "        if num > maior:\n",
    "            maior = num\n",
    "\n",
    "print(maior)"
   ]
  },
  {
   "cell_type": "code",
   "execution_count": 65,
   "id": "7991f068",
   "metadata": {},
   "outputs": [
    {
     "name": "stdout",
     "output_type": "stream",
     "text": [
      "Dados : python\n",
      "Banco : R\n",
      "Análise : Julia\n"
     ]
    }
   ],
   "source": [
    "dict = {'Dados':'python','Banco':'R','Análise':'Julia'}\n",
    "\n",
    "for key,item in dict.items():\n",
    "    print(key,':', item)"
   ]
  },
  {
   "cell_type": "code",
   "execution_count": null,
   "id": "b77c4c99",
   "metadata": {},
   "outputs": [],
   "source": []
  }
 ],
 "metadata": {
  "celltoolbar": "Raw Cell Format",
  "kernelspec": {
   "display_name": "Python 3 (ipykernel)",
   "language": "python",
   "name": "python3"
  },
  "language_info": {
   "codemirror_mode": {
    "name": "ipython",
    "version": 3
   },
   "file_extension": ".py",
   "mimetype": "text/x-python",
   "name": "python",
   "nbconvert_exporter": "python",
   "pygments_lexer": "ipython3",
   "version": "3.9.13"
  }
 },
 "nbformat": 4,
 "nbformat_minor": 5
}
