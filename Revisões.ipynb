{
  "cells": [
    {
      "cell_type": "markdown",
      "metadata": {
        "id": "view-in-github",
        "colab_type": "text"
      },
      "source": [
        "<a href=\"https://colab.research.google.com/github/talissonEloia/Python/blob/main/Revis%C3%B5es.ipynb\" target=\"_parent\"><img src=\"https://colab.research.google.com/assets/colab-badge.svg\" alt=\"Open In Colab\"/></a>"
      ]
    },
    {
      "cell_type": "markdown",
      "id": "ccd18c35",
      "metadata": {
        "id": "ccd18c35"
      },
      "source": [
        "\n",
        "\n",
        "**python_Exercicios01**"
      ]
    },
    {
      "cell_type": "markdown",
      "id": "336216d9",
      "metadata": {
        "id": "336216d9"
      },
      "source": [
        "1 Conceitos básicos: Contextualização:\tVocê precisa desenvolver um programa para calcular a área de um retângulo. \tEscreva um programa que solicite ao usuário o comprimento e a largura do retângulo e exiba a área do retângulo'''"
      ]
    },
    {
      "cell_type": "code",
      "execution_count": null,
      "id": "d3cd3bf7",
      "metadata": {
        "scrolled": true,
        "id": "d3cd3bf7"
      },
      "outputs": [],
      "source": [
        "base = int(input('Digite o valor da base:'))\n",
        "altura = int(input(\"Digite o valor da altura:\"))\n",
        "area = base * altura\n",
        "print(f\"A área do retângulo é  {area}\")"
      ]
    },
    {
      "cell_type": "markdown",
      "id": "6ccbd952",
      "metadata": {
        "id": "6ccbd952"
      },
      "source": [
        "2 Listas: Contextualização: Você está desenvolvendo um programa para gerenciar uma loja de produtos naturais. \tEscreva um programa que solicite ao usuário a quantidade de itens que ele deseja comprar e em seguida solicite o nome e  o preço de cada item. \tArmazene os nomes e preços em listas separadas. Por fim, exiba a lista completa de produtos com seus respectivos preços.'''"
      ]
    },
    {
      "cell_type": "code",
      "execution_count": null,
      "id": "befaef72",
      "metadata": {
        "id": "befaef72"
      },
      "outputs": [],
      "source": []
    },
    {
      "cell_type": "markdown",
      "id": "3ab8e38b",
      "metadata": {
        "id": "3ab8e38b"
      },
      "source": [
        "3 Dicionários: Contextualização: Você está desenvolvendo um programa para gerenciar uma escola. Crie um dicionário com o nome e a nota de cada aluno de uma turma. Em seguida, calcule a média das notas e exiba a média para o usuário.'''\n"
      ]
    },
    {
      "cell_type": "markdown",
      "source": [
        "# Nova seção"
      ],
      "metadata": {
        "id": "u4Tvqw195D5e"
      },
      "id": "u4Tvqw195D5e"
    },
    {
      "cell_type": "code",
      "execution_count": null,
      "id": "04818508",
      "metadata": {
        "id": "04818508"
      },
      "outputs": [],
      "source": []
    },
    {
      "cell_type": "markdown",
      "id": "38453630",
      "metadata": {
        "id": "38453630"
      },
      "source": [
        "4 Strings: Contextualização: Você precisa desenvolver um programa para validar senhas de usuários. Escreva um programa que solicite ao usuário uma senha e verifique se a senha contém pelo menos 8 caracteres e pelo menos um número.'''\n",
        "\n"
      ]
    },
    {
      "cell_type": "code",
      "execution_count": null,
      "id": "c0efecab",
      "metadata": {
        "id": "c0efecab"
      },
      "outputs": [],
      "source": []
    },
    {
      "cell_type": "markdown",
      "id": "ca5de0bc",
      "metadata": {
        "id": "ca5de0bc"
      },
      "source": [
        "5 Funções: Contextualização: Você está desenvolvendo um programa para uma loja de roupas que precisa calcular o desconto de uma compra.Escreva uma função que receba o valor total da compra e o percentual de desconto e retorne o valor final com o desconto aplicado.\n"
      ]
    },
    {
      "cell_type": "code",
      "execution_count": null,
      "id": "e0e01511",
      "metadata": {
        "id": "e0e01511"
      },
      "outputs": [],
      "source": []
    },
    {
      "cell_type": "markdown",
      "id": "00f42315",
      "metadata": {
        "id": "00f42315"
      },
      "source": [
        "6 Módulos: Contextualização: Você está desenvolvendo um programa para sortear um número aleatório para um jogo.\tUse o módulo random para gerar um número aleatório entre 1 e 10 e exiba o número para o usuário.'''"
      ]
    },
    {
      "cell_type": "code",
      "execution_count": null,
      "id": "a6945a8b",
      "metadata": {
        "id": "a6945a8b"
      },
      "outputs": [],
      "source": []
    },
    {
      "cell_type": "markdown",
      "id": "14a18baf",
      "metadata": {
        "id": "14a18baf"
      },
      "source": [
        "7 Orientação a objetos: Contextualização: Você está desenvolvendo um programa para gerenciar um cadastro de clientes de uma empresa. rie uma classe Cliente que tenha os atributos nome, endereço e telefone.\tEm seguida, crie dois objetos dessa classe com informações diferentes e exiba as informações dos clientes."
      ]
    },
    {
      "cell_type": "code",
      "execution_count": null,
      "id": "1029f32b",
      "metadata": {
        "id": "1029f32b"
      },
      "outputs": [],
      "source": []
    },
    {
      "cell_type": "markdown",
      "id": "cfb4326b",
      "metadata": {
        "id": "cfb4326b"
      },
      "source": [
        "8 Arquivos: Contextualização: Você está desenvolvendo um programa para ler um arquivo de texto com informações de alunos.Escreva um programa que leia um arquivo de texto com o nome e a nota de cada aluno em uma turma. Em seguida, exiba a lista de alunos com suas respectivas notas e calcule a média das notas. \n"
      ]
    },
    {
      "cell_type": "code",
      "execution_count": null,
      "id": "f639559c",
      "metadata": {
        "id": "f639559c"
      },
      "outputs": [],
      "source": []
    },
    {
      "cell_type": "markdown",
      "id": "0e0871d0",
      "metadata": {
        "id": "0e0871d0"
      },
      "source": [
        "9 Tratamento de erros: Contextualização: Você está desenvolvendo um programa para calcular a área de um retângulo,mas o usuário pode digitar um valor inválido. Escreva um programa que solicite ao usuário o comprimento e a largura do retângulo, mas trate o erro caso o usuário digite um valor inválido.'''"
      ]
    },
    {
      "cell_type": "code",
      "execution_count": null,
      "id": "a19296dd",
      "metadata": {
        "id": "a19296dd"
      },
      "outputs": [],
      "source": []
    },
    {
      "cell_type": "markdown",
      "id": "bff5f3ea",
      "metadata": {
        "id": "bff5f3ea"
      },
      "source": [
        "10\tBibliotecas externas: Contextualização: Você está desenvolvendo um programa para fazer cálculos matemáticos complexos. Use a biblioteca NumPy para criar uma matriz com números aleatórios e exiba a soma dos elementos da matriz.\n"
      ]
    },
    {
      "cell_type": "code",
      "execution_count": null,
      "id": "c5630f9a",
      "metadata": {
        "id": "c5630f9a"
      },
      "outputs": [],
      "source": []
    }
  ],
  "metadata": {
    "kernelspec": {
      "display_name": "Python 3 (ipykernel)",
      "language": "python",
      "name": "python3"
    },
    "language_info": {
      "codemirror_mode": {
        "name": "ipython",
        "version": 3
      },
      "file_extension": ".py",
      "mimetype": "text/x-python",
      "name": "python",
      "nbconvert_exporter": "python",
      "pygments_lexer": "ipython3",
      "version": "3.9.13"
    },
    "colab": {
      "provenance": [],
      "include_colab_link": true
    }
  },
  "nbformat": 4,
  "nbformat_minor": 5
}