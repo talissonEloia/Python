{
 "cells": [
  {
   "cell_type": "markdown",
   "id": "ccd18c35",
   "metadata": {},
   "source": [
    "### JupiterTheme"
   ]
  },
  {
   "cell_type": "code",
   "execution_count": null,
   "id": "5dee1f99",
   "metadata": {},
   "outputs": [],
   "source": [
    "#faça a isntalação do pacote via terminal\n",
    "pip install -jupyterthemes"
   ]
  },
  {
   "cell_type": "code",
   "execution_count": null,
   "id": "5fdac852",
   "metadata": {},
   "outputs": [],
   "source": [
    "# atualize para a versão mais atual do pacote\n",
    "pip install --upgrade jupyterthemes\n"
   ]
  },
  {
   "cell_type": "code",
   "execution_count": 28,
   "id": "327b9b94",
   "metadata": {},
   "outputs": [],
   "source": [
    "# Lista os temas disponíveis\n",
    "# onedork | grade3 | oceans16 | chesterish | monokai | solarizedl | solarizedd\n",
    "!jt -l"
   ]
  },
  {
   "cell_type": "code",
   "execution_count": null,
   "id": "87106a15",
   "metadata": {},
   "outputs": [],
   "source": [
    "# Selecionando tema\n",
    "#!jt -t nome_do_tema\n",
    "\n",
    "!jt -t [tema]\n",
    "\n",
    "#Após a aplicação do tema você deve salvar o notebook e atualizar a pagina. \n",
    "#Caso o tema não seja palicado reinicie seu Jupyter Notebook "
   ]
  },
  {
   "cell_type": "code",
   "execution_count": null,
   "id": "396af671",
   "metadata": {},
   "outputs": [],
   "source": [
    "# Restaurar o tema padrão \n",
    "# NOTA: É necessário excluir o cache do navegador após executar jt -r \n",
    "# Se isso não funcionar, tente iniciar uma nova sessão do bloco de anotações.\n",
    "!jt -r"
   ]
  },
  {
   "cell_type": "code",
   "execution_count": null,
   "id": "8cc5f971",
   "metadata": {},
   "outputs": [],
   "source": [
    "#Ativa a barra de ferramentas:\n",
    "!jt -t [theme name] -T\n",
    "\n"
   ]
  },
  {
   "cell_type": "code",
   "execution_count": null,
   "id": "a447bad4",
   "metadata": {},
   "outputs": [],
   "source": [
    "#Ativa o nome do arquivo e o logotipo:\n",
    "!jt -t [theme name] -N\n",
    "\n"
   ]
  },
  {
   "cell_type": "code",
   "execution_count": null,
   "id": "372b8edf",
   "metadata": {},
   "outputs": [],
   "source": [
    "#Ativa o logotipo do kernel:\n",
    "!jt -t [theme name] -kl"
   ]
  },
  {
   "cell_type": "code",
   "execution_count": null,
   "id": "fbad7424",
   "metadata": {},
   "outputs": [],
   "source": [
    "#Para alterar o tema e ativar a barra de ferramentas, nome do arquivo, logotipo, \n",
    "#logotipo do kernel na mesma instrução de linha de comando:\n",
    "\n",
    "!jt -t [theme name] -T -N -kl\n",
    "\n"
   ]
  },
  {
   "cell_type": "code",
   "execution_count": null,
   "id": "a97b1abf",
   "metadata": {},
   "outputs": [],
   "source": [
    "#Para mais comandos use o comando -h\n",
    "!jt -h"
   ]
  },
  {
   "cell_type": "code",
   "execution_count": null,
   "id": "93a95179",
   "metadata": {},
   "outputs": [],
   "source": [
    "#https://towardsdatascience.com/customize-your-jupyter-notebook-theme-in-2-lines-of-code-fc726cea1513"
   ]
  }
 ],
 "metadata": {
  "kernelspec": {
   "display_name": "Python 3 (ipykernel)",
   "language": "python",
   "name": "python3"
  },
  "language_info": {
   "codemirror_mode": {
    "name": "ipython",
    "version": 3
   },
   "file_extension": ".py",
   "mimetype": "text/x-python",
   "name": "python",
   "nbconvert_exporter": "python",
   "pygments_lexer": "ipython3",
   "version": "3.9.13"
  }
 },
 "nbformat": 4,
 "nbformat_minor": 5
}
